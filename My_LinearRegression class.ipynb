{
 "cells": [
  {
   "cell_type": "code",
   "execution_count": 17,
   "id": "c81cf5e6-3564-475a-b01d-af72b67b44c9",
   "metadata": {},
   "outputs": [
    {
     "name": "stdout",
     "output_type": "stream",
     "text": [
      "0.5715980025317784\n",
      "-1.0053743877270302\n",
      "Custom model prediction for first test sample: 3.4931018921980654\n",
      "scikit-learn model Coefficient: [0.571598]\n",
      "scikit-learn model Intercept: -1.0053743877270302\n",
      "scikit-learn model prediction for first test sample: 3.4931018921980654\n",
      "[0.571598]\n",
      "-1.0053743877270302\n"
     ]
    }
   ],
   "source": [
    "class LR:\n",
    "    def __init__(self):\n",
    "        self.m = None\n",
    "        self.b = None\n",
    "\n",
    "    def fit(self, x_train, y_train):\n",
    "        num = 0\n",
    "        dem = 0\n",
    "        for i in range(len(x_train)):\n",
    "            num += (y_train.iloc[i] - y_train.mean()) * (x_train.iloc[i] - x_train.mean())\n",
    "            dem += (x_train.iloc[i] - x_train.mean()) * (x_train.iloc[i] - x_train.mean())\n",
    "        self.m = num / dem\n",
    "        self.b = y_train.mean() - (self.m * x_train.mean())\n",
    "        print(self.m)\n",
    "        print(self.b)\n",
    "\n",
    "    def transform(self, x_test):\n",
    "        return self.m * x_test + self.b\n",
    "\n",
    "import pandas as pd\n",
    "import numpy as np\n",
    "from sklearn.model_selection import train_test_split\n",
    "from sklearn.linear_model import LinearRegression\n",
    "\n",
    "# Load data\n",
    "df = pd.read_csv(\"C://Users//91935//Downloads//placement.csv\")\n",
    "\n",
    "# Define features and target\n",
    "x = df['cgpa']\n",
    "y = df['package']\n",
    "\n",
    "# Split the data\n",
    "x_train, x_test, y_train, y_test = train_test_split(x, y, test_size=0.2)\n",
    "\n",
    "# Initialize and train the custom model\n",
    "custom_lr = LR()\n",
    "custom_lr.fit(x_train, y_train)\n",
    "\n",
    "# Transform the test data using the custom model\n",
    "print(\"Custom model prediction for first test sample:\", custom_lr.transform(x_test.iloc[0]))\n",
    "\n",
    "# Initialize and train scikit-learn's LinearRegression model\n",
    "sklearn_lr = LinearRegression()\n",
    "sklearn_lr.fit(x_train.values.reshape(-1, 1), y_train)\n",
    "\n",
    "# Print the coefficients\n",
    "print(\"scikit-learn model Coefficient:\", sklearn_lr.coef_)\n",
    "print(\"scikit-learn model Intercept:\", sklearn_lr.intercept_)\n",
    "\n",
    "# Transform the test data using scikit-learn's model\n",
    "print(\"scikit-learn model prediction for first test sample:\", sklearn_lr.predict(x_test.values.reshape(-1, 1))[0])\n",
    "from sklearn.linear_model import LinearRegression\n",
    "\n",
    "# Initialize the model\n",
    "lr = LinearRegression()\n",
    "\n",
    "# Fit the model\n",
    "lr.fit(x_train.values.reshape(-1, 1), y_train)\n",
    "\n",
    "# Print the coefficients\n",
    "print(lr.coef_)\n",
    "print(lr.intercept_)\n"
   ]
  },
  {
   "cell_type": "code",
   "execution_count": null,
   "id": "7ab0d478-b5b3-4908-9760-752b6963d37a",
   "metadata": {},
   "outputs": [],
   "source": []
  }
 ],
 "metadata": {
  "kernelspec": {
   "display_name": "Python 3 (ipykernel)",
   "language": "python",
   "name": "python3"
  },
  "language_info": {
   "codemirror_mode": {
    "name": "ipython",
    "version": 3
   },
   "file_extension": ".py",
   "mimetype": "text/x-python",
   "name": "python",
   "nbconvert_exporter": "python",
   "pygments_lexer": "ipython3",
   "version": "3.11.7"
  }
 },
 "nbformat": 4,
 "nbformat_minor": 5
}
