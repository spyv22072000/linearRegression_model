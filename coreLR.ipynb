{
 "cells": [
  {
   "cell_type": "code",
   "execution_count": 5,
   "id": "b77945aa-bd43-4f15-b1aa-034d6aa41c74",
   "metadata": {},
   "outputs": [],
   "source": [
    "class LR:\n",
    "    def __init__(self):\n",
    "        self.m = None\n",
    "        self.b = None\n",
    "\n",
    "    def fit(self, x_train, y_train):\n",
    "        num = 0\n",
    "        dem = 0\n",
    "        for i in range(len(x_train)):\n",
    "            num += (y_train.iloc[i] - y_train.mean()) * (x_train.iloc[i] - x_train.mean())\n",
    "            dem += (x_train.iloc[i] - x_train.mean()) * (x_train.iloc[i] - x_train.mean())\n",
    "        self.m = num / dem\n",
    "        self.b = y_train.mean() - (self.m * x_train.mean())\n",
    "        print(self.m)\n",
    "        print(self.b)\n",
    "\n",
    "    def transform(self, x_test):\n",
    "        return self.m * x_test + self.b\n"
   ]
  },
  {
   "cell_type": "code",
   "execution_count": 7,
   "id": "37b04c74-7b28-42a0-a76b-d719e9d38f73",
   "metadata": {},
   "outputs": [
    {
     "name": "stdout",
     "output_type": "stream",
     "text": [
      "1.3378485078053781\n",
      "-6.357328798710476\n",
      "1.964088919838975\n"
     ]
    }
   ],
   "source": [
    "import pandas as pd\n",
    "import numpy as np\n",
    "from sklearn.model_selection import train_test_split\n",
    "# Load data\n",
    "df = pd.read_csv(\"C://Users//91935//Downloads//placement.csv\")\n",
    "\n",
    "# Define features and target\n",
    "x = df['cgpa']\n",
    "y = df['package']\n",
    "\n",
    "# Split the data\n",
    "x_train, x_test, y_train, y_test = train_test_split(x, y, test_size=0.2)\n",
    "\n",
    "# Initialize and train the model\n",
    "lr = LR()\n",
    "lr.fit(x_train, y_train)\n",
    "\n",
    "# Transform the test data\n",
    "print(lr.transform(x_test.iloc[0]))"
   ]
  },
  {
   "cell_type": "code",
   "execution_count": null,
   "id": "84042ad4-5fcf-4073-b001-2760ef6ea310",
   "metadata": {},
   "outputs": [],
   "source": []
  }
 ],
 "metadata": {
  "kernelspec": {
   "display_name": "Python 3 (ipykernel)",
   "language": "python",
   "name": "python3"
  },
  "language_info": {
   "codemirror_mode": {
    "name": "ipython",
    "version": 3
   },
   "file_extension": ".py",
   "mimetype": "text/x-python",
   "name": "python",
   "nbconvert_exporter": "python",
   "pygments_lexer": "ipython3",
   "version": "3.11.7"
  }
 },
 "nbformat": 4,
 "nbformat_minor": 5
}
